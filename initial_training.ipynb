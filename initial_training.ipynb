{
 "cells": [
  {
   "cell_type": "code",
   "execution_count": 1,
   "id": "5bbc4f7a",
   "metadata": {},
   "outputs": [
    {
     "name": "stdout",
     "output_type": "stream",
     "text": [
      "Requirement already satisfied: pystan in /Users/yevheniyavytruchenko/opt/anaconda3/lib/python3.9/site-packages (2.19.1.1)\n",
      "Requirement already satisfied: prophet in /Users/yevheniyavytruchenko/opt/anaconda3/lib/python3.9/site-packages (1.0.1)\n",
      "Requirement already satisfied: numpy>=1.7 in /Users/yevheniyavytruchenko/opt/anaconda3/lib/python3.9/site-packages (from pystan) (1.20.3)\n",
      "Requirement already satisfied: Cython!=0.25.1,>=0.22 in /Users/yevheniyavytruchenko/opt/anaconda3/lib/python3.9/site-packages (from pystan) (0.29.24)\n",
      "Requirement already satisfied: cmdstanpy==0.9.68 in /Users/yevheniyavytruchenko/opt/anaconda3/lib/python3.9/site-packages (from prophet) (0.9.68)\n",
      "Requirement already satisfied: matplotlib>=2.0.0 in /Users/yevheniyavytruchenko/opt/anaconda3/lib/python3.9/site-packages (from prophet) (3.4.3)\n",
      "Requirement already satisfied: LunarCalendar>=0.0.9 in /Users/yevheniyavytruchenko/opt/anaconda3/lib/python3.9/site-packages (from prophet) (0.0.9)\n",
      "Requirement already satisfied: pandas>=1.0.4 in /Users/yevheniyavytruchenko/opt/anaconda3/lib/python3.9/site-packages (from prophet) (1.3.4)\n",
      "Requirement already satisfied: holidays>=0.10.2 in /Users/yevheniyavytruchenko/opt/anaconda3/lib/python3.9/site-packages (from prophet) (0.13)\n",
      "Requirement already satisfied: tqdm>=4.36.1 in /Users/yevheniyavytruchenko/opt/anaconda3/lib/python3.9/site-packages (from prophet) (4.62.3)\n",
      "Requirement already satisfied: setuptools-git>=1.2 in /Users/yevheniyavytruchenko/opt/anaconda3/lib/python3.9/site-packages (from prophet) (1.2)\n",
      "Requirement already satisfied: python-dateutil>=2.8.0 in /Users/yevheniyavytruchenko/opt/anaconda3/lib/python3.9/site-packages (from prophet) (2.8.2)\n",
      "Requirement already satisfied: convertdate>=2.1.2 in /Users/yevheniyavytruchenko/opt/anaconda3/lib/python3.9/site-packages (from prophet) (2.4.0)\n",
      "Requirement already satisfied: ujson in /Users/yevheniyavytruchenko/opt/anaconda3/lib/python3.9/site-packages (from cmdstanpy==0.9.68->prophet) (4.0.2)\n",
      "Requirement already satisfied: pymeeus<=1,>=0.3.13 in /Users/yevheniyavytruchenko/opt/anaconda3/lib/python3.9/site-packages (from convertdate>=2.1.2->prophet) (0.5.11)\n",
      "Requirement already satisfied: hijri-converter in /Users/yevheniyavytruchenko/opt/anaconda3/lib/python3.9/site-packages (from holidays>=0.10.2->prophet) (2.2.3)\n",
      "Requirement already satisfied: korean-lunar-calendar in /Users/yevheniyavytruchenko/opt/anaconda3/lib/python3.9/site-packages (from holidays>=0.10.2->prophet) (0.2.1)\n",
      "Requirement already satisfied: ephem>=3.7.5.3 in /Users/yevheniyavytruchenko/opt/anaconda3/lib/python3.9/site-packages (from LunarCalendar>=0.0.9->prophet) (4.1.3)\n",
      "Requirement already satisfied: pytz in /Users/yevheniyavytruchenko/opt/anaconda3/lib/python3.9/site-packages (from LunarCalendar>=0.0.9->prophet) (2021.3)\n",
      "Requirement already satisfied: pyparsing>=2.2.1 in /Users/yevheniyavytruchenko/opt/anaconda3/lib/python3.9/site-packages (from matplotlib>=2.0.0->prophet) (3.0.4)\n",
      "Requirement already satisfied: pillow>=6.2.0 in /Users/yevheniyavytruchenko/opt/anaconda3/lib/python3.9/site-packages (from matplotlib>=2.0.0->prophet) (8.4.0)\n",
      "Requirement already satisfied: cycler>=0.10 in /Users/yevheniyavytruchenko/opt/anaconda3/lib/python3.9/site-packages (from matplotlib>=2.0.0->prophet) (0.10.0)\n",
      "Requirement already satisfied: kiwisolver>=1.0.1 in /Users/yevheniyavytruchenko/opt/anaconda3/lib/python3.9/site-packages (from matplotlib>=2.0.0->prophet) (1.3.1)\n",
      "Requirement already satisfied: six in /Users/yevheniyavytruchenko/opt/anaconda3/lib/python3.9/site-packages (from cycler>=0.10->matplotlib>=2.0.0->prophet) (1.16.0)\n"
     ]
    }
   ],
   "source": [
    "!pip3 install pystan prophet"
   ]
  },
  {
   "cell_type": "code",
   "execution_count": 7,
   "id": "a6077b04",
   "metadata": {},
   "outputs": [],
   "source": [
    "import pandas as pd\n",
    "from prophet import Prophet"
   ]
  },
  {
   "cell_type": "code",
   "execution_count": 3,
   "id": "9c60d27a",
   "metadata": {},
   "outputs": [],
   "source": [
    "df = pd.read_csv('dataset.csv')"
   ]
  },
  {
   "cell_type": "code",
   "execution_count": 4,
   "id": "d46a7a49",
   "metadata": {},
   "outputs": [
    {
     "name": "stdout",
     "output_type": "stream",
     "text": [
      "[2667437]\n",
      "['QLD_CW_ST0203']\n"
     ]
    }
   ],
   "source": [
    "print(df['Product'].unique())\n",
    "print(df['Store'].unique())"
   ]
  },
  {
   "cell_type": "code",
   "execution_count": 5,
   "id": "874bcc65",
   "metadata": {},
   "outputs": [
    {
     "data": {
      "text/plain": [
       "Time Date             int64\n",
       "Product               int64\n",
       "Store                object\n",
       "Value               float64\n",
       "Year                 object\n",
       "Month                object\n",
       "Day                  object\n",
       "ds           datetime64[ns]\n",
       "dtype: object"
      ]
     },
     "execution_count": 5,
     "metadata": {},
     "output_type": "execute_result"
    }
   ],
   "source": [
    "df['Year'] = df['Time Date'].apply(lambda x: str(x)[-4:])\n",
    "df['Month'] = df['Time Date'].apply(lambda x: str(x)[-6:-4])\n",
    "df['Day'] = df['Time Date'].apply(lambda x: str(x)[:-6])\n",
    "df['ds'] = pd.DatetimeIndex(df['Year'] + '-' + df['Month'] + '-' + df['Day'])\n",
    "df.dtypes"
   ]
  },
  {
   "cell_type": "code",
   "execution_count": 6,
   "id": "5e8c4672",
   "metadata": {},
   "outputs": [],
   "source": [
    "df.drop(['Time Date', 'Product', 'Store', 'Year', 'Month', 'Day'], axis=1, inplace=True)\n",
    "df.columns = ['y', 'ds']"
   ]
  },
  {
   "cell_type": "markdown",
   "id": "f2b272c0",
   "metadata": {},
   "source": [
    "## Training\n",
    "\n",
    "- `interval_width=0.95` -> handles trend uncertainty (as opposed to uncertainty in seasonality)\n",
    "    - by allowing higher flexibility rate, `changepoint_prior_scale`, we also increase he forecast uncertainty\n",
    "    - This is because if we model more rate changes in the history then we will expect more in the future, and makes the uncertainty intervals a useful indicator of overfitting."
   ]
  },
  {
   "cell_type": "code",
   "execution_count": 11,
   "id": "e739fd50",
   "metadata": {},
   "outputs": [
    {
     "name": "stderr",
     "output_type": "stream",
     "text": [
      "INFO:prophet:Disabling daily seasonality. Run prophet with daily_seasonality=True to override this.\n"
     ]
    },
    {
     "data": {
      "text/plain": [
       "<prophet.forecaster.Prophet at 0x7fe23fb71220>"
      ]
     },
     "execution_count": 11,
     "metadata": {},
     "output_type": "execute_result"
    },
    {
     "name": "stdout",
     "output_type": "stream",
     "text": [
      "Initial log joint probability = -33.1653\n",
      "    Iter      log prob        ||dx||      ||grad||       alpha      alpha0  # evals  Notes \n",
      "      53       1945.53   0.000631867       102.449   3.995e-06       0.001      101  LS failed, Hessian reset \n",
      "      99       1946.09   0.000368073       98.8744      0.6795      0.6795      159   \n",
      "    Iter      log prob        ||dx||      ||grad||       alpha      alpha0  # evals  Notes \n",
      "     108       1946.15   0.000160306       71.7704   1.585e-06       0.001      207  LS failed, Hessian reset \n",
      "     199       1946.31   0.000475004       40.7529      0.5331      0.9399      319   \n",
      "    Iter      log prob        ||dx||      ||grad||       alpha      alpha0  # evals  Notes \n",
      "     200       1946.31   7.99931e-05       58.5875   1.963e-06       0.001      387  LS failed, Hessian reset \n",
      "     272       1946.44   1.04944e-05       89.2853   1.249e-07       0.001      523  LS failed, Hessian reset \n",
      "     299       1946.44   7.84896e-08       58.5545      0.3264           1      560   \n",
      "Optimization terminated normally: \n",
      "  Convergence detected: relative gradient magnitude is below tolerance\n"
     ]
    }
   ],
   "source": [
    "\n",
    "m = Prophet(interval_width=0.95)\n",
    "m.fit(df)"
   ]
  }
 ],
 "metadata": {
  "kernelspec": {
   "display_name": "Python 3 (ipykernel)",
   "language": "python",
   "name": "python3"
  },
  "language_info": {
   "codemirror_mode": {
    "name": "ipython",
    "version": 3
   },
   "file_extension": ".py",
   "mimetype": "text/x-python",
   "name": "python",
   "nbconvert_exporter": "python",
   "pygments_lexer": "ipython3",
   "version": "3.9.7"
  }
 },
 "nbformat": 4,
 "nbformat_minor": 5
}
