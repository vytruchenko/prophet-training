{
 "cells": [
  {
   "cell_type": "code",
   "execution_count": 1,
   "id": "94712036",
   "metadata": {},
   "outputs": [
    {
     "name": "stdout",
     "output_type": "stream",
     "text": [
      "Requirement already satisfied: pystan in /Users/yevheniyavytruchenko/opt/anaconda3/lib/python3.9/site-packages (2.19.1.1)\n",
      "Collecting prophet\n",
      "  Using cached prophet-1.0.1.tar.gz (65 kB)\n",
      "Requirement already satisfied: numpy>=1.7 in /Users/yevheniyavytruchenko/opt/anaconda3/lib/python3.9/site-packages (from pystan) (1.20.3)\n",
      "Requirement already satisfied: Cython!=0.25.1,>=0.22 in /Users/yevheniyavytruchenko/opt/anaconda3/lib/python3.9/site-packages (from pystan) (0.29.24)\n",
      "Requirement already satisfied: cmdstanpy==0.9.68 in /Users/yevheniyavytruchenko/opt/anaconda3/lib/python3.9/site-packages (from prophet) (0.9.68)\n",
      "Requirement already satisfied: pandas>=1.0.4 in /Users/yevheniyavytruchenko/opt/anaconda3/lib/python3.9/site-packages (from prophet) (1.3.4)\n",
      "Requirement already satisfied: matplotlib>=2.0.0 in /Users/yevheniyavytruchenko/opt/anaconda3/lib/python3.9/site-packages (from prophet) (3.4.3)\n",
      "Requirement already satisfied: LunarCalendar>=0.0.9 in /Users/yevheniyavytruchenko/opt/anaconda3/lib/python3.9/site-packages (from prophet) (0.0.9)\n",
      "Requirement already satisfied: convertdate>=2.1.2 in /Users/yevheniyavytruchenko/opt/anaconda3/lib/python3.9/site-packages (from prophet) (2.4.0)\n",
      "Requirement already satisfied: holidays>=0.10.2 in /Users/yevheniyavytruchenko/opt/anaconda3/lib/python3.9/site-packages (from prophet) (0.13)\n",
      "Requirement already satisfied: setuptools-git>=1.2 in /Users/yevheniyavytruchenko/opt/anaconda3/lib/python3.9/site-packages (from prophet) (1.2)\n",
      "Requirement already satisfied: python-dateutil>=2.8.0 in /Users/yevheniyavytruchenko/opt/anaconda3/lib/python3.9/site-packages (from prophet) (2.8.2)\n",
      "Requirement already satisfied: tqdm>=4.36.1 in /Users/yevheniyavytruchenko/opt/anaconda3/lib/python3.9/site-packages (from prophet) (4.62.3)\n",
      "Requirement already satisfied: ujson in /Users/yevheniyavytruchenko/opt/anaconda3/lib/python3.9/site-packages (from cmdstanpy==0.9.68->prophet) (4.0.2)\n",
      "Requirement already satisfied: pymeeus<=1,>=0.3.13 in /Users/yevheniyavytruchenko/opt/anaconda3/lib/python3.9/site-packages (from convertdate>=2.1.2->prophet) (0.5.11)\n",
      "Requirement already satisfied: korean-lunar-calendar in /Users/yevheniyavytruchenko/opt/anaconda3/lib/python3.9/site-packages (from holidays>=0.10.2->prophet) (0.2.1)\n",
      "Requirement already satisfied: hijri-converter in /Users/yevheniyavytruchenko/opt/anaconda3/lib/python3.9/site-packages (from holidays>=0.10.2->prophet) (2.2.3)\n",
      "Requirement already satisfied: ephem>=3.7.5.3 in /Users/yevheniyavytruchenko/opt/anaconda3/lib/python3.9/site-packages (from LunarCalendar>=0.0.9->prophet) (4.1.3)\n",
      "Requirement already satisfied: pytz in /Users/yevheniyavytruchenko/opt/anaconda3/lib/python3.9/site-packages (from LunarCalendar>=0.0.9->prophet) (2021.3)\n",
      "Requirement already satisfied: kiwisolver>=1.0.1 in /Users/yevheniyavytruchenko/opt/anaconda3/lib/python3.9/site-packages (from matplotlib>=2.0.0->prophet) (1.3.1)\n",
      "Requirement already satisfied: pillow>=6.2.0 in /Users/yevheniyavytruchenko/opt/anaconda3/lib/python3.9/site-packages (from matplotlib>=2.0.0->prophet) (8.4.0)\n",
      "Requirement already satisfied: pyparsing>=2.2.1 in /Users/yevheniyavytruchenko/opt/anaconda3/lib/python3.9/site-packages (from matplotlib>=2.0.0->prophet) (3.0.4)\n",
      "Requirement already satisfied: cycler>=0.10 in /Users/yevheniyavytruchenko/opt/anaconda3/lib/python3.9/site-packages (from matplotlib>=2.0.0->prophet) (0.10.0)\n",
      "Requirement already satisfied: six in /Users/yevheniyavytruchenko/opt/anaconda3/lib/python3.9/site-packages (from cycler>=0.10->matplotlib>=2.0.0->prophet) (1.16.0)\n",
      "Building wheels for collected packages: prophet\n",
      "  Building wheel for prophet (setup.py) ... \u001b[?25ldone\n",
      "\u001b[?25h  Created wheel for prophet: filename=prophet-1.0.1-py3-none-any.whl size=665003 sha256=7f7c044808cb85c4b9bb7a89979107adfc11d9de56acf159ba5f2ea1a9da102c\n",
      "  Stored in directory: /Users/yevheniyavytruchenko/Library/Caches/pip/wheels/26/0b/d9/6583b6a639c0ff50333d558826d4366c7739bd6a7450b80fec\n",
      "Successfully built prophet\n",
      "Installing collected packages: prophet\n",
      "Successfully installed prophet-1.0.1\n"
     ]
    }
   ],
   "source": [
    "!pip3 install pystan prophet"
   ]
  },
  {
   "cell_type": "code",
   "execution_count": 4,
   "id": "e1fa54aa",
   "metadata": {},
   "outputs": [],
   "source": [
    "import pandas as pd\n",
    "import prophet"
   ]
  },
  {
   "cell_type": "code",
   "execution_count": 3,
   "id": "20506962",
   "metadata": {},
   "outputs": [],
   "source": [
    "df = pd.read_csv('dataset.csv')"
   ]
  },
  {
   "cell_type": "code",
   "execution_count": null,
   "id": "4ba13332",
   "metadata": {},
   "outputs": [],
   "source": []
  }
 ],
 "metadata": {
  "kernelspec": {
   "display_name": "Python 3 (ipykernel)",
   "language": "python",
   "name": "python3"
  },
  "language_info": {
   "codemirror_mode": {
    "name": "ipython",
    "version": 3
   },
   "file_extension": ".py",
   "mimetype": "text/x-python",
   "name": "python",
   "nbconvert_exporter": "python",
   "pygments_lexer": "ipython3",
   "version": "3.9.7"
  }
 },
 "nbformat": 4,
 "nbformat_minor": 5
}
