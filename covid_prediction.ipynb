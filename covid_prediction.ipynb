{
 "cells": [
  {
   "cell_type": "code",
   "execution_count": null,
   "id": "6b38902d",
   "metadata": {},
   "outputs": [],
   "source": [
    "import pandas as pd\n",
    "from prophet import Prophet\n",
    "from datetime import date, timedelta, datetime\n",
    "import plotly.express as px"
   ]
  },
  {
   "cell_type": "code",
   "execution_count": null,
   "id": "6ec527b6",
   "metadata": {},
   "outputs": [],
   "source": [
    "confirmed_global_df = pd.read_csv('time_series_covid19_confirmed_global.csv')\n",
    "confirmed_global_df.head()"
   ]
  },
  {
   "cell_type": "code",
   "execution_count": null,
   "id": "e5f67a56",
   "metadata": {},
   "outputs": [],
   "source": [
    "country_main = 'Germany'\n",
    "confirmed_global_df = confirmed_global_df[confirmed_global_df['Country/Region'] == country_main].reset_index(drop=True)\n",
    "confirmed_global_df"
   ]
  },
  {
   "cell_type": "code",
   "execution_count": null,
   "id": "3927a687",
   "metadata": {},
   "outputs": [],
   "source": [
    "confirmed_global_df.drop(['Province/State', 'Lat', 'Long'], axis=1, inplace=True)\n",
    "df = pd.melt(confirmed_global_df, id_vars=['Country/Region'], value_vars=confirmed_global_df.columns[1:])\n",
    "df.drop(['Country/Region'], axis=1, inplace=True)"
   ]
  },
  {
   "cell_type": "code",
   "execution_count": null,
   "id": "b647b955",
   "metadata": {},
   "outputs": [],
   "source": [
    "#convert the values to contain new cases per day\n",
    "df['ds'] = df['variable'].apply(lambda x: datetime.strptime(str(x), \"%m/%d/%y\"))\n",
    "df.drop(['variable'], axis=1, inplace=True)\n",
    "df['value'] = df['value'].diff()\n",
    "df.loc[0,'value'] = 0\n",
    "df.columns = ['y', 'ds']"
   ]
  },
  {
   "cell_type": "code",
   "execution_count": null,
   "id": "d4aff925",
   "metadata": {},
   "outputs": [],
   "source": []
  },
  {
   "cell_type": "markdown",
   "id": "c20d0f1c",
   "metadata": {},
   "source": [
    "# Training"
   ]
  },
  {
   "cell_type": "code",
   "execution_count": null,
   "id": "9a66f159",
   "metadata": {},
   "outputs": [],
   "source": [
    "m = Prophet(interval_width=0.95, daily_seasonality=True)\n",
    "m.fit(df)"
   ]
  },
  {
   "cell_type": "code",
   "execution_count": null,
   "id": "3e8b731f",
   "metadata": {},
   "outputs": [],
   "source": [
    "future = m.make_future_dataframe(periods=365,freq='D')\n",
    "forecast = m.predict(future)\n",
    "forecast.head()"
   ]
  },
  {
   "cell_type": "code",
   "execution_count": null,
   "id": "5799c178",
   "metadata": {},
   "outputs": [],
   "source": [
    "plot1 = m.plot(forecast)"
   ]
  },
  {
   "cell_type": "code",
   "execution_count": null,
   "id": "35a406f2",
   "metadata": {},
   "outputs": [],
   "source": [
    "# Seasonality by timeframe\n",
    "plt2 = m.plot_components(forecast)"
   ]
  },
  {
   "cell_type": "code",
   "execution_count": null,
   "id": "f9469716",
   "metadata": {},
   "outputs": [],
   "source": [
    "from prophet.plot import add_changepoints_to_plot\n",
    "fig = m.plot(forecast)\n",
    "a = add_changepoints_to_plot(fig.gca(), m, forecast)"
   ]
  },
  {
   "cell_type": "code",
   "execution_count": null,
   "id": "c41c0cb2",
   "metadata": {},
   "outputs": [],
   "source": []
  },
  {
   "cell_type": "markdown",
   "id": "099a6dee",
   "metadata": {},
   "source": [
    "# Holidays"
   ]
  },
  {
   "cell_type": "code",
   "execution_count": null,
   "id": "9ec1b4bb",
   "metadata": {},
   "outputs": [],
   "source": [
    "holidays_df = pd.read_csv('holidays_df_of_70_countries_for_covid_19_2022_Temporary.csv')\n",
    "germany_holidays = holidays_df[holidays_df['country'] == country_main]"
   ]
  },
  {
   "cell_type": "code",
   "execution_count": null,
   "id": "96c2241d",
   "metadata": {},
   "outputs": [],
   "source": [
    "germany_holidays.drop(['ds', 'country', 'code', 'country_official_name', 'prior_scale', 'source'], axis=1, inplace=True)"
   ]
  },
  {
   "cell_type": "code",
   "execution_count": null,
   "id": "8da5f793",
   "metadata": {},
   "outputs": [],
   "source": [
    "germany_holidays.columns= ['ds', 'holiday', 'lower_window', 'upper_window']\n",
    "germany_holidays"
   ]
  },
  {
   "cell_type": "code",
   "execution_count": null,
   "id": "d5f8a8ac",
   "metadata": {},
   "outputs": [],
   "source": [
    "m = Prophet(holidays=germany_holidays)\n",
    "m.add_country_holidays(country_name='DE')\n",
    "forecast = m.fit(df).predict(future)"
   ]
  },
  {
   "cell_type": "code",
   "execution_count": null,
   "id": "f39407d5",
   "metadata": {},
   "outputs": [],
   "source": [
    "fig = m.plot_components(forecast)"
   ]
  },
  {
   "cell_type": "code",
   "execution_count": null,
   "id": "65b28fe4",
   "metadata": {},
   "outputs": [],
   "source": []
  },
  {
   "cell_type": "code",
   "execution_count": null,
   "id": "62544a3a",
   "metadata": {},
   "outputs": [],
   "source": []
  }
 ],
 "metadata": {
  "kernelspec": {
   "display_name": "Python 3 (ipykernel)",
   "language": "python",
   "name": "python3"
  },
  "language_info": {
   "codemirror_mode": {
    "name": "ipython",
    "version": 3
   },
   "file_extension": ".py",
   "mimetype": "text/x-python",
   "name": "python",
   "nbconvert_exporter": "python",
   "pygments_lexer": "ipython3",
   "version": "3.9.7"
  }
 },
 "nbformat": 4,
 "nbformat_minor": 5
}
