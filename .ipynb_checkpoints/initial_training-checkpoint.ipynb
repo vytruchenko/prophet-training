{
 "cells": [
  {
   "cell_type": "code",
   "execution_count": 1,
   "id": "5f0b94ce",
   "metadata": {},
   "outputs": [
    {
     "ename": "ModuleNotFoundError",
     "evalue": "No module named 'prophet'",
     "output_type": "error",
     "traceback": [
      "\u001b[0;31m---------------------------------------------------------------------------\u001b[0m",
      "\u001b[0;31mModuleNotFoundError\u001b[0m                       Traceback (most recent call last)",
      "\u001b[0;32m/var/folders/qw/bbvpww2n0lz2gp29_c60gfr40000gn/T/ipykernel_7765/1649154000.py\u001b[0m in \u001b[0;36m<module>\u001b[0;34m\u001b[0m\n\u001b[1;32m      1\u001b[0m \u001b[0;32mimport\u001b[0m \u001b[0mpandas\u001b[0m \u001b[0;32mas\u001b[0m \u001b[0mpd\u001b[0m\u001b[0;34m\u001b[0m\u001b[0;34m\u001b[0m\u001b[0m\n\u001b[0;32m----> 2\u001b[0;31m \u001b[0;32mfrom\u001b[0m \u001b[0mprophet\u001b[0m \u001b[0;32mimport\u001b[0m \u001b[0mProphet\u001b[0m\u001b[0;34m\u001b[0m\u001b[0;34m\u001b[0m\u001b[0m\n\u001b[0m",
      "\u001b[0;31mModuleNotFoundError\u001b[0m: No module named 'prophet'"
     ]
    }
   ],
   "source": [
    "import pandas as pd\n",
    "from prophet import Prophet"
   ]
  },
  {
   "cell_type": "code",
   "execution_count": null,
   "id": "be24d545",
   "metadata": {},
   "outputs": [
    {
     "name": "stdout",
     "output_type": "stream",
     "text": [
      "Collecting prophet\n",
      "  Using cached prophet-1.0.1.tar.gz (65 kB)\n",
      "Requirement already satisfied: Cython>=0.22 in /Users/yevheniyavytruchenko/opt/anaconda3/lib/python3.9/site-packages (from prophet) (0.29.24)\n",
      "Collecting cmdstanpy==0.9.68\n",
      "  Using cached cmdstanpy-0.9.68-py3-none-any.whl (49 kB)\n",
      "Collecting pystan~=2.19.1.1\n",
      "  Downloading pystan-2.19.1.1.tar.gz (16.2 MB)\n",
      "\u001b[K     |████████████████████████████████| 16.2 MB 9.9 MB/s eta 0:00:01     |██████████████████████████████▎ | 15.3 MB 9.9 MB/s eta 0:00:01\n",
      "\u001b[?25hRequirement already satisfied: numpy>=1.15.4 in /Users/yevheniyavytruchenko/opt/anaconda3/lib/python3.9/site-packages (from prophet) (1.20.3)\n",
      "Requirement already satisfied: pandas>=1.0.4 in /Users/yevheniyavytruchenko/opt/anaconda3/lib/python3.9/site-packages (from prophet) (1.3.4)\n",
      "Requirement already satisfied: matplotlib>=2.0.0 in /Users/yevheniyavytruchenko/opt/anaconda3/lib/python3.9/site-packages (from prophet) (3.4.3)\n",
      "Collecting LunarCalendar>=0.0.9\n",
      "  Using cached LunarCalendar-0.0.9-py2.py3-none-any.whl (18 kB)\n",
      "Collecting convertdate>=2.1.2\n",
      "  Using cached convertdate-2.4.0-py3-none-any.whl (47 kB)\n",
      "Collecting holidays>=0.10.2\n",
      "  Using cached holidays-0.13-py3-none-any.whl (172 kB)\n",
      "Collecting setuptools-git>=1.2\n",
      "  Using cached setuptools_git-1.2-py2.py3-none-any.whl (10 kB)\n",
      "Requirement already satisfied: python-dateutil>=2.8.0 in /Users/yevheniyavytruchenko/opt/anaconda3/lib/python3.9/site-packages (from prophet) (2.8.2)\n",
      "Requirement already satisfied: tqdm>=4.36.1 in /Users/yevheniyavytruchenko/opt/anaconda3/lib/python3.9/site-packages (from prophet) (4.62.3)\n",
      "Requirement already satisfied: ujson in /Users/yevheniyavytruchenko/opt/anaconda3/lib/python3.9/site-packages (from cmdstanpy==0.9.68->prophet) (4.0.2)\n",
      "Collecting pymeeus<=1,>=0.3.13\n",
      "  Using cached PyMeeus-0.5.11.tar.gz (5.4 MB)\n",
      "Collecting hijri-converter\n",
      "  Using cached hijri_converter-2.2.3-py3-none-any.whl (14 kB)\n",
      "Collecting korean-lunar-calendar\n",
      "  Using cached korean_lunar_calendar-0.2.1-py3-none-any.whl (8.0 kB)\n",
      "Collecting ephem>=3.7.5.3\n",
      "  Downloading ephem-4.1.3-cp39-cp39-macosx_10_9_x86_64.whl (1.4 MB)\n",
      "\u001b[K     |████████████████████████████████| 1.4 MB 14.2 MB/s eta 0:00:01\n",
      "\u001b[?25hRequirement already satisfied: pytz in /Users/yevheniyavytruchenko/opt/anaconda3/lib/python3.9/site-packages (from LunarCalendar>=0.0.9->prophet) (2021.3)\n",
      "Requirement already satisfied: kiwisolver>=1.0.1 in /Users/yevheniyavytruchenko/opt/anaconda3/lib/python3.9/site-packages (from matplotlib>=2.0.0->prophet) (1.3.1)\n",
      "Requirement already satisfied: cycler>=0.10 in /Users/yevheniyavytruchenko/opt/anaconda3/lib/python3.9/site-packages (from matplotlib>=2.0.0->prophet) (0.10.0)\n",
      "Requirement already satisfied: pillow>=6.2.0 in /Users/yevheniyavytruchenko/opt/anaconda3/lib/python3.9/site-packages (from matplotlib>=2.0.0->prophet) (8.4.0)\n",
      "Requirement already satisfied: pyparsing>=2.2.1 in /Users/yevheniyavytruchenko/opt/anaconda3/lib/python3.9/site-packages (from matplotlib>=2.0.0->prophet) (3.0.4)\n",
      "Requirement already satisfied: six in /Users/yevheniyavytruchenko/opt/anaconda3/lib/python3.9/site-packages (from cycler>=0.10->matplotlib>=2.0.0->prophet) (1.16.0)\n",
      "Building wheels for collected packages: prophet, pymeeus, pystan\n",
      "  Building wheel for prophet (setup.py) ... \u001b[?25lerror\n",
      "\u001b[31m  ERROR: Command errored out with exit status 1:\n",
      "   command: /Users/yevheniyavytruchenko/opt/anaconda3/bin/python -u -c 'import io, os, sys, setuptools, tokenize; sys.argv[0] = '\"'\"'/private/var/folders/qw/bbvpww2n0lz2gp29_c60gfr40000gn/T/pip-install-cassj0zp/prophet_f912a23a8f51463391ceeecad604d7f1/setup.py'\"'\"'; __file__='\"'\"'/private/var/folders/qw/bbvpww2n0lz2gp29_c60gfr40000gn/T/pip-install-cassj0zp/prophet_f912a23a8f51463391ceeecad604d7f1/setup.py'\"'\"';f = getattr(tokenize, '\"'\"'open'\"'\"', open)(__file__) if os.path.exists(__file__) else io.StringIO('\"'\"'from setuptools import setup; setup()'\"'\"');code = f.read().replace('\"'\"'\\r\\n'\"'\"', '\"'\"'\\n'\"'\"');f.close();exec(compile(code, __file__, '\"'\"'exec'\"'\"'))' bdist_wheel -d /private/var/folders/qw/bbvpww2n0lz2gp29_c60gfr40000gn/T/pip-wheel-dtowx1j5\n",
      "       cwd: /private/var/folders/qw/bbvpww2n0lz2gp29_c60gfr40000gn/T/pip-install-cassj0zp/prophet_f912a23a8f51463391ceeecad604d7f1/\n",
      "  Complete output (44 lines):\n",
      "  running bdist_wheel\n",
      "  running build\n",
      "  running build_py\n",
      "  creating build\n",
      "  creating build/lib\n",
      "  creating build/lib/prophet\n",
      "  creating build/lib/prophet/stan_model\n",
      "  Traceback (most recent call last):\n",
      "    File \"<string>\", line 1, in <module>\n",
      "    File \"/private/var/folders/qw/bbvpww2n0lz2gp29_c60gfr40000gn/T/pip-install-cassj0zp/prophet_f912a23a8f51463391ceeecad604d7f1/setup.py\", line 123, in <module>\n",
      "      setup(\n",
      "    File \"/Users/yevheniyavytruchenko/opt/anaconda3/lib/python3.9/site-packages/setuptools/__init__.py\", line 153, in setup\n",
      "      return distutils.core.setup(**attrs)\n",
      "    File \"/Users/yevheniyavytruchenko/opt/anaconda3/lib/python3.9/distutils/core.py\", line 148, in setup\n",
      "      dist.run_commands()\n",
      "    File \"/Users/yevheniyavytruchenko/opt/anaconda3/lib/python3.9/distutils/dist.py\", line 966, in run_commands\n",
      "      self.run_command(cmd)\n",
      "    File \"/Users/yevheniyavytruchenko/opt/anaconda3/lib/python3.9/distutils/dist.py\", line 985, in run_command\n",
      "      cmd_obj.run()\n",
      "    File \"/Users/yevheniyavytruchenko/opt/anaconda3/lib/python3.9/site-packages/wheel/bdist_wheel.py\", line 299, in run\n",
      "      self.run_command('build')\n",
      "    File \"/Users/yevheniyavytruchenko/opt/anaconda3/lib/python3.9/distutils/cmd.py\", line 313, in run_command\n",
      "      self.distribution.run_command(command)\n",
      "    File \"/Users/yevheniyavytruchenko/opt/anaconda3/lib/python3.9/distutils/dist.py\", line 985, in run_command\n",
      "      cmd_obj.run()\n",
      "    File \"/Users/yevheniyavytruchenko/opt/anaconda3/lib/python3.9/distutils/command/build.py\", line 135, in run\n",
      "      self.run_command(cmd_name)\n",
      "    File \"/Users/yevheniyavytruchenko/opt/anaconda3/lib/python3.9/distutils/cmd.py\", line 313, in run_command\n",
      "      self.distribution.run_command(command)\n",
      "    File \"/Users/yevheniyavytruchenko/opt/anaconda3/lib/python3.9/distutils/dist.py\", line 985, in run_command\n",
      "      cmd_obj.run()\n",
      "    File \"/private/var/folders/qw/bbvpww2n0lz2gp29_c60gfr40000gn/T/pip-install-cassj0zp/prophet_f912a23a8f51463391ceeecad604d7f1/setup.py\", line 48, in run\n",
      "      build_models(target_dir)\n",
      "    File \"/private/var/folders/qw/bbvpww2n0lz2gp29_c60gfr40000gn/T/pip-install-cassj0zp/prophet_f912a23a8f51463391ceeecad604d7f1/setup.py\", line 36, in build_models\n",
      "      from prophet.models import StanBackendEnum\n",
      "    File \"/private/var/folders/qw/bbvpww2n0lz2gp29_c60gfr40000gn/T/pip-install-cassj0zp/prophet_f912a23a8f51463391ceeecad604d7f1/prophet/__init__.py\", line 8, in <module>\n",
      "      from prophet.forecaster import Prophet\n",
      "    File \"/private/var/folders/qw/bbvpww2n0lz2gp29_c60gfr40000gn/T/pip-install-cassj0zp/prophet_f912a23a8f51463391ceeecad604d7f1/prophet/forecaster.py\", line 17, in <module>\n",
      "      from prophet.make_holidays import get_holiday_names, make_holidays_df\n",
      "    File \"/private/var/folders/qw/bbvpww2n0lz2gp29_c60gfr40000gn/T/pip-install-cassj0zp/prophet_f912a23a8f51463391ceeecad604d7f1/prophet/make_holidays.py\", line 14, in <module>\n",
      "      import prophet.hdays as hdays_part2\n",
      "    File \"/private/var/folders/qw/bbvpww2n0lz2gp29_c60gfr40000gn/T/pip-install-cassj0zp/prophet_f912a23a8f51463391ceeecad604d7f1/prophet/hdays.py\", line 13, in <module>\n",
      "      from convertdate.islamic import from_gregorian, to_gregorian\n",
      "  ModuleNotFoundError: No module named 'convertdate'\n",
      "  ----------------------------------------\u001b[0m\n",
      "\u001b[31m  ERROR: Failed building wheel for prophet\u001b[0m\n",
      "\u001b[?25h  Running setup.py clean for prophet\n",
      "  Building wheel for pymeeus (setup.py) ... \u001b[?25ldone\n",
      "\u001b[?25h  Created wheel for pymeeus: filename=PyMeeus-0.5.11-py3-none-any.whl size=730984 sha256=4c7b591abe45ac7bed411b5cf328afa99aa33a2461036551de3d3875b7f89a3c\n",
      "  Stored in directory: /Users/yevheniyavytruchenko/Library/Caches/pip/wheels/33/3d/82/4579e9cca41ff991140b2e050bc6df3a38292f26e4fa06b15d\n",
      "  Building wheel for pystan (setup.py) ... \u001b[?25l/"
     ]
    }
   ],
   "source": [
    "!pip3 install prophet"
   ]
  },
  {
   "cell_type": "code",
   "execution_count": null,
   "id": "f9f39052",
   "metadata": {},
   "outputs": [],
   "source": []
  }
 ],
 "metadata": {
  "kernelspec": {
   "display_name": "Python 3 (ipykernel)",
   "language": "python",
   "name": "python3"
  },
  "language_info": {
   "codemirror_mode": {
    "name": "ipython",
    "version": 3
   },
   "file_extension": ".py",
   "mimetype": "text/x-python",
   "name": "python",
   "nbconvert_exporter": "python",
   "pygments_lexer": "ipython3",
   "version": "3.9.7"
  }
 },
 "nbformat": 4,
 "nbformat_minor": 5
}
